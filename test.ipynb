{
 "cells": [
  {
   "cell_type": "code",
   "execution_count": 1,
   "metadata": {
    "vscode": {
     "languageId": "r"
    }
   },
   "outputs": [
    {
     "data": {
      "text/plain": [
       "               _                           \n",
       "platform       x86_64-conda-linux-gnu      \n",
       "arch           x86_64                      \n",
       "os             linux-gnu                   \n",
       "system         x86_64, linux-gnu           \n",
       "status                                     \n",
       "major          4                           \n",
       "minor          2.1                         \n",
       "year           2022                        \n",
       "month          06                          \n",
       "day            23                          \n",
       "svn rev        82513                       \n",
       "language       R                           \n",
       "version.string R version 4.2.1 (2022-06-23)\n",
       "nickname       Funny-Looking Kid           "
      ]
     },
     "metadata": {},
     "output_type": "display_data"
    },
    {
     "data": {
      "text/html": [
       "'/data/users/mccallke0364/.conda/envs/biol443/lib/R'"
      ],
      "text/latex": [
       "'/data/users/mccallke0364/.conda/envs/biol443/lib/R'"
      ],
      "text/markdown": [
       "'/data/users/mccallke0364/.conda/envs/biol443/lib/R'"
      ],
      "text/plain": [
       "[1] \"/data/users/mccallke0364/.conda/envs/biol443/lib/R\""
      ]
     },
     "metadata": {},
     "output_type": "display_data"
    }
   ],
   "source": [
    "R.version\n",
    "R.home()\n"
   ]
  },
  {
   "cell_type": "code",
   "execution_count": 3,
   "metadata": {
    "vscode": {
     "languageId": "r"
    }
   },
   "outputs": [],
   "source": [
    "library(tidyverse)\n",
    "library(topGO)\n",
    "library(gprofiler2)"
   ]
  },
  {
   "attachments": {},
   "cell_type": "markdown",
   "metadata": {},
   "source": [
    "# GProfiler2 Test"
   ]
  },
  {
   "cell_type": "code",
   "execution_count": 4,
   "metadata": {
    "vscode": {
     "languageId": "r"
    }
   },
   "outputs": [
    {
     "ename": "ERROR",
     "evalue": "Error in gprofiler_request(url, body): There's an issue with your request to g:Profiler.\nError code: 301.\nPlease double check your input. If this doesn't help, then check your internet connection or contact us with a reproducible example on biit.support@ut.ee\n",
     "output_type": "error",
     "traceback": [
      "Error in gprofiler_request(url, body): There's an issue with your request to g:Profiler.\nError code: 301.\nPlease double check your input. If this doesn't help, then check your internet connection or contact us with a reproducible example on biit.support@ut.ee\nTraceback:\n",
      "1. gost(query = c(\"X:1000:1000000\", \"rs17396340\", \"GO:0005005\", \n .     \"ENSG00000156103\", \"NLRP1\"), organism = \"hsapiens\", ordered_query = FALSE, \n .     multi_query = FALSE, significant = TRUE, exclude_iea = FALSE, \n .     measure_underrepresentation = FALSE, evcodes = FALSE, user_threshold = 0.05, \n .     correction_method = \"g_SCS\", domain_scope = \"annotated\", \n .     custom_bg = NULL, numeric_ns = \"\", sources = NULL, as_short_link = FALSE, \n .     highlight = TRUE)",
      "2. gprofiler2::get_version_info(organism = organism)",
      "3. gprofiler_request(url, body)",
      "4. stop(error_message)"
     ]
    }
   ],
   "source": [
    "gostres <- gost(query = c(\"X:1000:1000000\", \"rs17396340\", \"GO:0005005\", \"ENSG00000156103\", \"NLRP1\"), \n",
    "                organism = \"hsapiens\", ordered_query = FALSE, \n",
    "                multi_query = FALSE, significant = TRUE, exclude_iea = FALSE, \n",
    "                measure_underrepresentation = FALSE, evcodes = FALSE, \n",
    "                user_threshold = 0.05, correction_method = \"g_SCS\", \n",
    "                domain_scope = \"annotated\", custom_bg = NULL, \n",
    "                numeric_ns = \"\", sources = NULL, as_short_link = FALSE, highlight = TRUE)\n",
    "gostplot(gostres, capped = TRUE, interactive = TRUE)"
   ]
  },
  {
   "cell_type": "code",
   "execution_count": null,
   "metadata": {
    "vscode": {
     "languageId": "r"
    }
   },
   "outputs": [],
   "source": []
  }
 ],
 "metadata": {
  "kernelspec": {
   "display_name": "R",
   "language": "R",
   "name": "ir"
  },
  "language_info": {
   "codemirror_mode": "r",
   "file_extension": ".r",
   "mimetype": "text/x-r-source",
   "name": "R",
   "pygments_lexer": "r",
   "version": "4.2.1"
  },
  "orig_nbformat": 4
 },
 "nbformat": 4,
 "nbformat_minor": 2
}
