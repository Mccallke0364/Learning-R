{
 "cells": [
  {
   "attachments": {},
   "cell_type": "markdown",
   "metadata": {},
   "source": [
    "## 5.2.1 Exercises"
   ]
  },
  {
   "attachments": {},
   "cell_type": "markdown",
   "metadata": {},
   "source": [
    "### 1. For each of the sample tables, describe what each observation and each column represents.\n",
    "```r\n",
    "            table1\n",
    "            #> # A tibble: 6 × 4\n",
    "            #>   country      year  cases population\n",
    "            #>   <chr>       <dbl>  <dbl>      <dbl>\n",
    "            #> 1 Afghanistan  1999    745   19987071\n",
    "            #> 2 Afghanistan  2000   2666   20595360\n",
    "            #> 3 Brazil       1999  37737  172006362\n",
    "            #> 4 Brazil       2000  80488  174504898\n",
    "            #> 5 China        1999 212258 1272915272\n",
    "            #> 6 China        2000 213766 1280428583\n",
    "\n",
    "            table2\n",
    "            #> # A tibble: 12 × 4\n",
    "            #>   country      year type           count\n",
    "            #>   <chr>       <dbl> <chr>          <dbl>\n",
    "            #> 1 Afghanistan  1999 cases            745\n",
    "            #> 2 Afghanistan  1999 population  19987071\n",
    "            #> 3 Afghanistan  2000 cases           2666\n",
    "            #> 4 Afghanistan  2000 population  20595360\n",
    "            #> 5 Brazil       1999 cases          37737\n",
    "            #> 6 Brazil       1999 population 172006362\n",
    "            #> # ℹ 6 more rows\n",
    "\n",
    "            table3\n",
    "            #> # A tibble: 6 × 3\n",
    "            #>   country      year rate             \n",
    "            #>   <chr>       <dbl> <chr>            \n",
    "            #> 1 Afghanistan  1999 745/19987071     \n",
    "            #> 2 Afghanistan  2000 2666/20595360    \n",
    "            #> 3 Brazil       1999 37737/172006362  \n",
    "            #> 4 Brazil       2000 80488/174504898  \n",
    "            #> 5 China        1999 212258/1272915272\n",
    "            #> 6 China        2000 213766/1280428583\n",
    "```"
   ]
  },
  {
   "attachments": {},
   "cell_type": "markdown",
   "metadata": {},
   "source": [
    "### 2. Sketch out the process you’d use to calculate the `rate` for `table2` and `table3`. You will need to perform four operations:  \n",
    "\n",
    "-   a. Extract the number of TB cases per country per year.\n",
    "-   b. Extract the matching population per country per year.\n",
    "-   c. Divide cases by population, and multiply by 10000.\n",
    "-   d. Store back in the appropriate place.  \n",
    "\n",
    "You haven’t yet learned all the functions you’d need to actually perform these operations, but you should still be able to think through the transformations you’d need."
   ]
  }
 ],
 "metadata": {
  "language_info": {
   "name": "python"
  },
  "orig_nbformat": 4
 },
 "nbformat": 4,
 "nbformat_minor": 2
}
