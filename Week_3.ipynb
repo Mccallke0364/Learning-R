{
 "cells": [
  {
   "attachments": {},
   "cell_type": "markdown",
   "metadata": {},
   "source": [
    "## [5.2.1 Exercises](https://r4ds.hadley.nz/data-tidy#exercises)"
   ]
  },
  {
   "cell_type": "code",
   "execution_count": 1,
   "metadata": {
    "vscode": {
     "languageId": "r"
    }
   },
   "outputs": [
    {
     "name": "stderr",
     "output_type": "stream",
     "text": [
      "── \u001b[1mAttaching packages\u001b[22m ─────────────────────────────────────── tidyverse 1.3.2 ──\n",
      "\u001b[32m✔\u001b[39m \u001b[34mggplot2\u001b[39m 3.5.1     \u001b[32m✔\u001b[39m \u001b[34mpurrr  \u001b[39m 1.0.2\n",
      "\u001b[32m✔\u001b[39m \u001b[34mtibble \u001b[39m 3.2.1     \u001b[32m✔\u001b[39m \u001b[34mdplyr  \u001b[39m 1.1.4\n",
      "\u001b[32m✔\u001b[39m \u001b[34mtidyr  \u001b[39m 1.3.1     \u001b[32m✔\u001b[39m \u001b[34mstringr\u001b[39m 1.5.1\n",
      "\u001b[32m✔\u001b[39m \u001b[34mreadr  \u001b[39m 2.1.5     \u001b[32m✔\u001b[39m \u001b[34mforcats\u001b[39m 1.0.0\n",
      "Warning message:\n",
      "“package ‘ggplot2’ was built under R version 4.2.3”\n",
      "Warning message:\n",
      "“package ‘tibble’ was built under R version 4.2.3”\n",
      "Warning message:\n",
      "“package ‘tidyr’ was built under R version 4.2.3”\n",
      "Warning message:\n",
      "“package ‘readr’ was built under R version 4.2.3”\n",
      "Warning message:\n",
      "“package ‘purrr’ was built under R version 4.2.3”\n",
      "Warning message:\n",
      "“package ‘dplyr’ was built under R version 4.2.3”\n",
      "Warning message:\n",
      "“package ‘stringr’ was built under R version 4.2.3”\n",
      "Warning message:\n",
      "“package ‘forcats’ was built under R version 4.2.3”\n",
      "── \u001b[1mConflicts\u001b[22m ────────────────────────────────────────── tidyverse_conflicts() ──\n",
      "\u001b[31m✖\u001b[39m \u001b[34mdplyr\u001b[39m::\u001b[32mfilter()\u001b[39m masks \u001b[34mstats\u001b[39m::filter()\n",
      "\u001b[31m✖\u001b[39m \u001b[34mdplyr\u001b[39m::\u001b[32mlag()\u001b[39m    masks \u001b[34mstats\u001b[39m::lag()\n"
     ]
    }
   ],
   "source": [
    "library(tidyverse)\n",
    "library(dplyr)"
   ]
  },
  {
   "attachments": {},
   "cell_type": "markdown",
   "metadata": {},
   "source": [
    "### 1. For each of the sample tables, describe what each observation and each column represents.\n",
    "```r\n",
    "            table1\n",
    "            #> # A tibble: 6 × 4\n",
    "            #>   country      year  cases population\n",
    "            #>   <chr>       <dbl>  <dbl>      <dbl>\n",
    "            #> 1 Afghanistan  1999    745   19987071\n",
    "            #> 2 Afghanistan  2000   2666   20595360\n",
    "            #> 3 Brazil       1999  37737  172006362\n",
    "            #> 4 Brazil       2000  80488  174504898\n",
    "            #> 5 China        1999 212258 1272915272\n",
    "            #> 6 China        2000 213766 1280428583\n",
    "\n",
    "            table2\n",
    "            #> # A tibble: 12 × 4\n",
    "            #>   country      year type           count\n",
    "            #>   <chr>       <dbl> <chr>          <dbl>\n",
    "            #> 1 Afghanistan  1999 cases            745\n",
    "            #> 2 Afghanistan  1999 population  19987071\n",
    "            #> 3 Afghanistan  2000 cases           2666\n",
    "            #> 4 Afghanistan  2000 population  20595360\n",
    "            #> 5 Brazil       1999 cases          37737\n",
    "            #> 6 Brazil       1999 population 172006362\n",
    "            #> # ℹ 6 more rows\n",
    "\n",
    "            table3\n",
    "            #> # A tibble: 6 × 3\n",
    "            #>   country      year rate             \n",
    "            #>   <chr>       <dbl> <chr>            \n",
    "            #> 1 Afghanistan  1999 745/19987071     \n",
    "            #> 2 Afghanistan  2000 2666/20595360    \n",
    "            #> 3 Brazil       1999 37737/172006362  \n",
    "            #> 4 Brazil       2000 80488/174504898  \n",
    "            #> 5 China        1999 212258/1272915272\n",
    "            #> 6 China        2000 213766/1280428583\n",
    "```"
   ]
  },
  {
   "attachments": {},
   "cell_type": "markdown",
   "metadata": {},
   "source": [
    "        Every table's observes the same variables documenting the same observations, a country in a year with a number of people and number of cases of a disease. aka country, year, population, cases. However, each table has a little different of a layout and appearance for the observations \n",
    "\n",
    "`table1` has a row for each observation and the columns separate the details of the observation with a column for each variable: country, year, population and cases\n",
    "\n",
    "`table2` has two rows for each observation both rows have the country and year as their first two data columns. The variables population and cases are specified in a separate column called type and their values are stored in a column called count that stores the value of population or cases\n",
    "\n",
    "`table3` has one row for each observation with the value for population and cases presented as a fraction of cases divided by population stored in the column named rate"
   ]
  },
  {
   "attachments": {},
   "cell_type": "markdown",
   "metadata": {},
   "source": [
    "### 2. Sketch out the process you’d use to calculate the `rate` for `table2` and `table3`. You will need to perform four operations:  \n",
    "\n",
    "-   a. Extract the number of TB cases per country per year.\n",
    "-   b. Extract the matching population per country per year.\n",
    "-   c. Divide cases by population, and multiply by 10000.\n",
    "-   d. Store back in the appropriate place.  \n",
    "\n",
    "You haven’t yet learned all the functions you’d need to actually perform these operations, but you should still be able to think through the transformations you’d need."
   ]
  },
  {
   "cell_type": "code",
   "execution_count": 5,
   "metadata": {
    "vscode": {
     "languageId": "r"
    }
   },
   "outputs": [
    {
     "name": "stderr",
     "output_type": "stream",
     "text": [
      "\u001b[1m\u001b[22m`summarise()` has grouped output by 'country'. You can override using the\n",
      "`.groups` argument.\n"
     ]
    },
    {
     "data": {
      "text/html": [
       "<table class=\"dataframe\">\n",
       "<caption>A grouped_df: 6 × 3</caption>\n",
       "<thead>\n",
       "\t<tr><th scope=col>country</th><th scope=col>year</th><th scope=col>rate</th></tr>\n",
       "\t<tr><th scope=col>&lt;chr&gt;</th><th scope=col>&lt;dbl&gt;</th><th scope=col>&lt;dbl&gt;</th></tr>\n",
       "</thead>\n",
       "<tbody>\n",
       "\t<tr><td>Afghanistan</td><td>1999</td><td>0.372741</td></tr>\n",
       "\t<tr><td>Afghanistan</td><td>2000</td><td>1.294466</td></tr>\n",
       "\t<tr><td>Brazil     </td><td>1999</td><td>2.193930</td></tr>\n",
       "\t<tr><td>Brazil     </td><td>2000</td><td>4.612363</td></tr>\n",
       "\t<tr><td>China      </td><td>1999</td><td>1.667495</td></tr>\n",
       "\t<tr><td>China      </td><td>2000</td><td>1.669488</td></tr>\n",
       "</tbody>\n",
       "</table>\n"
      ],
      "text/latex": [
       "A grouped\\_df: 6 × 3\n",
       "\\begin{tabular}{lll}\n",
       " country & year & rate\\\\\n",
       " <chr> & <dbl> & <dbl>\\\\\n",
       "\\hline\n",
       "\t Afghanistan & 1999 & 0.372741\\\\\n",
       "\t Afghanistan & 2000 & 1.294466\\\\\n",
       "\t Brazil      & 1999 & 2.193930\\\\\n",
       "\t Brazil      & 2000 & 4.612363\\\\\n",
       "\t China       & 1999 & 1.667495\\\\\n",
       "\t China       & 2000 & 1.669488\\\\\n",
       "\\end{tabular}\n"
      ],
      "text/markdown": [
       "\n",
       "A grouped_df: 6 × 3\n",
       "\n",
       "| country &lt;chr&gt; | year &lt;dbl&gt; | rate &lt;dbl&gt; |\n",
       "|---|---|---|\n",
       "| Afghanistan | 1999 | 0.372741 |\n",
       "| Afghanistan | 2000 | 1.294466 |\n",
       "| Brazil      | 1999 | 2.193930 |\n",
       "| Brazil      | 2000 | 4.612363 |\n",
       "| China       | 1999 | 1.667495 |\n",
       "| China       | 2000 | 1.669488 |\n",
       "\n"
      ],
      "text/plain": [
       "  country     year rate    \n",
       "1 Afghanistan 1999 0.372741\n",
       "2 Afghanistan 2000 1.294466\n",
       "3 Brazil      1999 2.193930\n",
       "4 Brazil      2000 4.612363\n",
       "5 China       1999 1.667495\n",
       "6 China       2000 1.669488"
      ]
     },
     "metadata": {},
     "output_type": "display_data"
    },
    {
     "data": {
      "text/html": [
       "<table class=\"dataframe\">\n",
       "<caption>A grouped_df: 12 × 4</caption>\n",
       "<thead>\n",
       "\t<tr><th scope=col>country</th><th scope=col>year</th><th scope=col>type</th><th scope=col>count</th></tr>\n",
       "\t<tr><th scope=col>&lt;chr&gt;</th><th scope=col>&lt;dbl&gt;</th><th scope=col>&lt;chr&gt;</th><th scope=col>&lt;dbl&gt;</th></tr>\n",
       "</thead>\n",
       "<tbody>\n",
       "\t<tr><td>Afghanistan</td><td>1999</td><td>cases     </td><td>       745</td></tr>\n",
       "\t<tr><td>Afghanistan</td><td>2000</td><td>cases     </td><td>      2666</td></tr>\n",
       "\t<tr><td>Brazil     </td><td>1999</td><td>cases     </td><td>     37737</td></tr>\n",
       "\t<tr><td>Brazil     </td><td>2000</td><td>cases     </td><td>     80488</td></tr>\n",
       "\t<tr><td>China      </td><td>1999</td><td>cases     </td><td>    212258</td></tr>\n",
       "\t<tr><td>China      </td><td>2000</td><td>cases     </td><td>    213766</td></tr>\n",
       "\t<tr><td>Afghanistan</td><td>1999</td><td>population</td><td>  19987071</td></tr>\n",
       "\t<tr><td>Afghanistan</td><td>2000</td><td>population</td><td>  20595360</td></tr>\n",
       "\t<tr><td>Brazil     </td><td>1999</td><td>population</td><td> 172006362</td></tr>\n",
       "\t<tr><td>Brazil     </td><td>2000</td><td>population</td><td> 174504898</td></tr>\n",
       "\t<tr><td>China      </td><td>1999</td><td>population</td><td>1272915272</td></tr>\n",
       "\t<tr><td>China      </td><td>2000</td><td>population</td><td>1280428583</td></tr>\n",
       "</tbody>\n",
       "</table>\n"
      ],
      "text/latex": [
       "A grouped\\_df: 12 × 4\n",
       "\\begin{tabular}{llll}\n",
       " country & year & type & count\\\\\n",
       " <chr> & <dbl> & <chr> & <dbl>\\\\\n",
       "\\hline\n",
       "\t Afghanistan & 1999 & cases      &        745\\\\\n",
       "\t Afghanistan & 2000 & cases      &       2666\\\\\n",
       "\t Brazil      & 1999 & cases      &      37737\\\\\n",
       "\t Brazil      & 2000 & cases      &      80488\\\\\n",
       "\t China       & 1999 & cases      &     212258\\\\\n",
       "\t China       & 2000 & cases      &     213766\\\\\n",
       "\t Afghanistan & 1999 & population &   19987071\\\\\n",
       "\t Afghanistan & 2000 & population &   20595360\\\\\n",
       "\t Brazil      & 1999 & population &  172006362\\\\\n",
       "\t Brazil      & 2000 & population &  174504898\\\\\n",
       "\t China       & 1999 & population & 1272915272\\\\\n",
       "\t China       & 2000 & population & 1280428583\\\\\n",
       "\\end{tabular}\n"
      ],
      "text/markdown": [
       "\n",
       "A grouped_df: 12 × 4\n",
       "\n",
       "| country &lt;chr&gt; | year &lt;dbl&gt; | type &lt;chr&gt; | count &lt;dbl&gt; |\n",
       "|---|---|---|---|\n",
       "| Afghanistan | 1999 | cases      |        745 |\n",
       "| Afghanistan | 2000 | cases      |       2666 |\n",
       "| Brazil      | 1999 | cases      |      37737 |\n",
       "| Brazil      | 2000 | cases      |      80488 |\n",
       "| China       | 1999 | cases      |     212258 |\n",
       "| China       | 2000 | cases      |     213766 |\n",
       "| Afghanistan | 1999 | population |   19987071 |\n",
       "| Afghanistan | 2000 | population |   20595360 |\n",
       "| Brazil      | 1999 | population |  172006362 |\n",
       "| Brazil      | 2000 | population |  174504898 |\n",
       "| China       | 1999 | population | 1272915272 |\n",
       "| China       | 2000 | population | 1280428583 |\n",
       "\n"
      ],
      "text/plain": [
       "   country     year type       count     \n",
       "1  Afghanistan 1999 cases             745\n",
       "2  Afghanistan 2000 cases            2666\n",
       "3  Brazil      1999 cases           37737\n",
       "4  Brazil      2000 cases           80488\n",
       "5  China       1999 cases          212258\n",
       "6  China       2000 cases          213766\n",
       "7  Afghanistan 1999 population   19987071\n",
       "8  Afghanistan 2000 population   20595360\n",
       "9  Brazil      1999 population  172006362\n",
       "10 Brazil      2000 population  174504898\n",
       "11 China       1999 population 1272915272\n",
       "12 China       2000 population 1280428583"
      ]
     },
     "metadata": {},
     "output_type": "display_data"
    }
   ],
   "source": [
    "\n",
    "table1 |>\n",
    "    group_by(country, year) |>\n",
    "    summarize(rate = cases / population * 10000)\n",
    "\n",
    "table2 |>\n",
    "    group_by(country, year) |>\n",
    "    arrange(type)\n",
    "    #then i would do the first row in each group devided by the last row in each group\n",
    "\n",
    "#table3 |>\n",
    "    #i would create a new row and then use string splitting and type casting to devide everything before the / by everything after the / "
   ]
  }
 ],
 "metadata": {
  "kernelspec": {
   "display_name": "R",
   "language": "R",
   "name": "ir"
  },
  "language_info": {
   "codemirror_mode": "r",
   "file_extension": ".r",
   "mimetype": "text/x-r-source",
   "name": "R",
   "pygments_lexer": "r",
   "version": "4.2.1"
  },
  "orig_nbformat": 4
 },
 "nbformat": 4,
 "nbformat_minor": 2
}
