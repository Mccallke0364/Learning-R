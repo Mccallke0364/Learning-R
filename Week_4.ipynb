{
 "cells": [
  {
   "attachments": {},
   "cell_type": "markdown",
   "metadata": {},
   "source": [
    "## 7.2.4 Exercises"
   ]
  },
  {
   "attachments": {},
   "cell_type": "markdown",
   "metadata": {},
   "source": [
    "### 1. What function would you use to read a file where fields were separated with “`|`”?"
   ]
  },
  {
   "attachments": {},
   "cell_type": "markdown",
   "metadata": {},
   "source": [
    "### 2. Apart from `file`, `skip`, and `comment`, what other arguments do `read_csv()` and `read_tsv()` have in common?"
   ]
  },
  {
   "attachments": {},
   "cell_type": "markdown",
   "metadata": {},
   "source": [
    "### 3. What are the most important arguments to read_fwf()?"
   ]
  },
  {
   "attachments": {},
   "cell_type": "markdown",
   "metadata": {},
   "source": [
    "### 4. Sometimes strings in a CSV file contain commas. To prevent them from causing problems, they need to be surrounded by a quoting character, like \" or '. By default, `read_csv()` assumes that the quoting character will be \". To read the following text into a data frame, what argument to `read_csv()` do you need to specify?  \n",
    "```r\n",
    "     \"x,y\\n1,'a,b'\"\n",
    "```"
   ]
  },
  {
   "attachments": {},
   "cell_type": "markdown",
   "metadata": {},
   "source": [
    "### 5. Identify what is wrong with each of the following inline CSV files. What happens when you run the code?\n",
    "```r \n",
    "        read_csv(\"a,b\\n1,2,3\\n4,5,6\")\n",
    "        read_csv(\"a,b,c\\n1,2\\n1,2,3,4\")\n",
    "        read_csv(\"a,b\\n\\\"1\")\n",
    "        read_csv(\"a,b\\n1,2\\na,b\")\n",
    "        read_csv(\"a;b\\n1;3\")\n",
    "```"
   ]
  },
  {
   "attachments": {},
   "cell_type": "markdown",
   "metadata": {},
   "source": [
    "### 6. Practice referring to non-syntactic names in the following data frame by: \n",
    "\n",
    "\n",
    "- a. Extracting the variable called `1`.\n",
    "- b. Plotting a scatterplot of `1` vs. `2`.\n",
    "- c. Creating a new column called `3`, which is `2` divided by `1`.\n",
    "- d. Renaming the columns to `one`, `two`, and `three`.\n",
    "\n",
    "```r\n",
    "      annoying <- tibble(\n",
    "        `1` = 1:10,\n",
    "        `2` = `1` * 2 + rnorm(length(`1`))\n",
    "      )\n",
    "```"
   ]
  }
 ],
 "metadata": {
  "kernelspec": {
   "display_name": "Python 3",
   "language": "python",
   "name": "python3"
  },
  "language_info": {
   "codemirror_mode": {
    "name": "ipython",
    "version": 3
   },
   "file_extension": ".py",
   "mimetype": "text/x-python",
   "name": "python",
   "nbconvert_exporter": "python",
   "pygments_lexer": "ipython3",
   "version": "3.9.6"
  },
  "orig_nbformat": 4
 },
 "nbformat": 4,
 "nbformat_minor": 2
}
