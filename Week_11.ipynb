{
 "cells": [
  {
   "attachments": {},
   "cell_type": "markdown",
   "metadata": {},
   "source": [
    "## [20.2.9 Exercises](https://r4ds.hadley.nz/spreadsheets#exercises)"
   ]
  },
  {
   "attachments": {},
   "cell_type": "markdown",
   "metadata": {},
   "source": [
    "### 1. In an Excel file, create the following dataset and save it as `survey.xlsx`. Alternatively, you can download it as an Excel file from [here](https://docs.google.com/spreadsheets/d/1yc5gL-a2OOBr8M7B3IsDNX5uR17vBHOyWZq6xSTG2G8).\n",
    "\n",
    "<img width=30% src=\"https://r4ds.hadley.nz/screenshots/import-spreadsheets-survey.png\"></img>\n",
    "\n",
    "\n",
    "### Then, read it into R, with `survey_id` as a character variable and `n_pets` as a numerical variable.   \n",
    "\n",
    "```r\n",
    "    #> # A tibble: 6 × 2\n",
    "    #>   survey_id n_pets\n",
    "    #>   <chr>      <dbl>\n",
    "    #> 1 1              0\n",
    "    #> 2 2              1\n",
    "    #> 3 3             NA\n",
    "    #> 4 4              2\n",
    "    #> 5 5              2\n",
    "    #> 6 6             NA\n",
    "```\n"
   ]
  },
  {
   "cell_type": "code",
   "execution_count": null,
   "metadata": {},
   "outputs": [],
   "source": []
  },
  {
   "attachments": {},
   "cell_type": "markdown",
   "metadata": {},
   "source": [
    "### 2. In another Excel file, create the following dataset and save it as `roster.xlsx`.` Alternatively, you can download it as an Excel file from [here](https://docs.google.com/spreadsheets/d/1LgZ0Bkg9d_NK8uTdP2uHXm07kAlwx8-Ictf8NocebIE).\n",
    "<img width=20% alt=\"A spreadsheet with 3 columns (group, subgroup, and id) and 12 rows. The  group column has two values: 1 (spanning 7 merged rows) and 2 (spanning  5 merged rows). The subgroup column has four values: A (spanning 3 merged  rows), B (spanning 4 merged rows), A (spanning 2 merged rows), and B  (spanning 3 merged rows). The id column has twelve values, numbers 1  through 12.\" src=\"https://r4ds.hadley.nz/screenshots/import-spreadsheets-roster.png\"></img>\n",
    "\n",
    "\n",
    "### Then, read it into R. The resulting data frame should be called `roster` and should look like the following.\n",
    "```r\n",
    "    #> # A tibble: 12 × 3\n",
    "    #>    group subgroup    id\n",
    "    #>    <dbl> <chr>    <dbl>\n",
    "    #>  1     1 A            1\n",
    "    #>  2     1 A            2\n",
    "    #>  3     1 A            3\n",
    "    #>  4     1 B            4\n",
    "    #>  5     1 B            5\n",
    "    #>  6     1 B            6\n",
    "    #>  7     1 B            7\n",
    "    #>  8     2 A            8\n",
    "    #>  9     2 A            9\n",
    "    #> 10     2 B           10\n",
    "    #> 11     2 B           11\n",
    "    #> 12     2 B           12\n",
    "```"
   ]
  },
  {
   "attachments": {},
   "cell_type": "markdown",
   "metadata": {},
   "source": [
    "### 1. In a new Excel file, create the following dataset and save it as `sales.xlsx`. Alternatively, you can download it as an Excel file from [here](https://docs.google.com/spreadsheets/d/1oCqdXUNO8JR3Pca8fHfiz_WXWxMuZAp3YiYFaKze5V0).\n",
    "<img width=30% alt=\"A spreadsheet with 2 columns and 13 rows. The first two rows have text  containing information about the sheet. Row 1 says 'This file contains information on sales'. Row 2 says 'Data are organized by brand name, and  for each brand, we have the ID number for the item sold, and how many are  sold.'. Then there are two empty rows, and then 9 rows of data.\" src=\"https://r4ds.hadley.nz/screenshots/import-spreadsheets-sales.png\"></img>\n",
    "\n"
   ]
  },
  {
   "attachments": {},
   "cell_type": "markdown",
   "metadata": {},
   "source": [
    "##### a. Read `sales.xlsx` in and save as `sales`. The data frame should look like the following, with `id` and `n` as column names and with 9 rows.   \n",
    "\n",
    "``` r\n",
    "    #> # A tibble: 9 × 2\n",
    "    #>   id      n    \n",
    "    #>   <chr>   <chr>\n",
    "    #> 1 Brand 1 n    \n",
    "    #> 2 1234    8    \n",
    "    #> 3 8721    2    \n",
    "    #> 4 1822    3    \n",
    "    #> 5 Brand 2 n    \n",
    "    #> 6 3333    1    \n",
    "    #> 7 2156    3    \n",
    "    #> 8 3987    6    \n",
    "    #> 9 3216    5\n",
    "```"
   ]
  },
  {
   "cell_type": "code",
   "execution_count": null,
   "metadata": {},
   "outputs": [],
   "source": []
  },
  {
   "attachments": {},
   "cell_type": "markdown",
   "metadata": {},
   "source": [
    "##### b. Modify `sales` further to get it into the following tidy format with three columns (`brand`, `id`, and `n`) and 7 rows of data. Note that `id` and `n` are numeric, `brand` is a character variable.   \n",
    "\n",
    "```r\n",
    "    #> # A tibble: 7 × 3\n",
    "    #>   brand      id     n\n",
    "    #>   <chr>   <dbl> <dbl>\n",
    "    #> 1 Brand 1  1234     8\n",
    "    #> 2 Brand 1  8721     2\n",
    "    #> 3 Brand 1  1822     3\n",
    "    #> 4 Brand 2  3333     1\n",
    "    #> 5 Brand 2  2156     3\n",
    "    #> 6 Brand 2  3987     6\n",
    "    #> 7 Brand 2  3216     5\n",
    "```"
   ]
  },
  {
   "cell_type": "code",
   "execution_count": null,
   "metadata": {},
   "outputs": [],
   "source": []
  },
  {
   "attachments": {},
   "cell_type": "markdown",
   "metadata": {},
   "source": [
    "### 4. Recreate the `bake_sale` data frame, write it out to an Excel file using the `write.xlsx()` function from the openxlsx package.\n",
    "\n"
   ]
  },
  {
   "cell_type": "code",
   "execution_count": null,
   "metadata": {},
   "outputs": [],
   "source": []
  },
  {
   "attachments": {},
   "cell_type": "markdown",
   "metadata": {},
   "source": [
    "### 5. In [Chapter 7](https://r4ds.hadley.nz/data-import) you learned about the `janitor::clean_names()` function to turn column names into snake case. Read the `students.xlsx` file that we introduced earlier in this section and use this function to “clean” the column names.\n",
    "\n"
   ]
  },
  {
   "cell_type": "code",
   "execution_count": null,
   "metadata": {},
   "outputs": [],
   "source": []
  },
  {
   "attachments": {},
   "cell_type": "markdown",
   "metadata": {},
   "source": [
    "### 6. What happens if you try to read in a file with `.xlsx` extension with `read_xls()`?\n",
    "\n"
   ]
  },
  {
   "cell_type": "code",
   "execution_count": null,
   "metadata": {},
   "outputs": [],
   "source": [
    "\n"
   ]
  },
  {
   "attachments": {},
   "cell_type": "markdown",
   "metadata": {},
   "source": [
    "## [20.3.6 Exercises](https://r4ds.hadley.nz/spreadsheets#exercises-1)"
   ]
  },
  {
   "attachments": {},
   "cell_type": "markdown",
   "metadata": {},
   "source": [
    "### 1. Read the `students` dataset from earlier in the chapter from Excel and also from Google Sheets, with no additional arguments supplied to the `read_excel()` and `read_sheet() `functions. Are the resulting data frames in R exactly the same? If not, how are they different?\n",
    "\n"
   ]
  },
  {
   "cell_type": "code",
   "execution_count": null,
   "metadata": {},
   "outputs": [],
   "source": []
  },
  {
   "attachments": {},
   "cell_type": "markdown",
   "metadata": {},
   "source": [
    "### 2. Read the Google Sheet titled survey from https://pos.it/r4ds-survey, with `survey_id` as a character variable and `n_pets` as a numerical variable.\n",
    "\n"
   ]
  },
  {
   "cell_type": "code",
   "execution_count": null,
   "metadata": {},
   "outputs": [],
   "source": []
  },
  {
   "attachments": {},
   "cell_type": "markdown",
   "metadata": {},
   "source": [
    "### 3. Read the Google Sheet titled roster from https://pos.it/r4ds-roster. The resulting data frame should be called `roster` and should look like the following.  \n",
    "\n",
    "```r\n",
    "        #> # A tibble: 12 × 3\n",
    "        #>    group subgroup    id\n",
    "        #>    <dbl> <chr>    <dbl>\n",
    "        #>  1     1 A            1\n",
    "        #>  2     1 A            2\n",
    "        #>  3     1 A            3\n",
    "        #>  4     1 B            4\n",
    "        #>  5     1 B            5\n",
    "        #>  6     1 B            6\n",
    "        #>  7     1 B            7\n",
    "        #>  8     2 A            8\n",
    "        #>  9     2 A            9\n",
    "        #> 10     2 B           10\n",
    "        #> 11     2 B           11\n",
    "        #> 12     2 B           12\n",
    "```\n"
   ]
  },
  {
   "cell_type": "code",
   "execution_count": null,
   "metadata": {},
   "outputs": [],
   "source": []
  }
 ],
 "metadata": {
  "kernelspec": {
   "display_name": "Python 3",
   "language": "python",
   "name": "python3"
  },
  "language_info": {
   "codemirror_mode": {
    "name": "ipython",
    "version": 3
   },
   "file_extension": ".py",
   "mimetype": "text/x-python",
   "name": "python",
   "nbconvert_exporter": "python",
   "pygments_lexer": "ipython3",
   "version": "3.9.6"
  },
  "orig_nbformat": 4
 },
 "nbformat": 4,
 "nbformat_minor": 2
}
